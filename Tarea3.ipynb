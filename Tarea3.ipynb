{
  "nbformat": 4,
  "nbformat_minor": 0,
  "metadata": {
    "colab": {
      "name": "Tarea3.ipynb",
      "provenance": [],
      "authorship_tag": "ABX9TyMnocUfaEQF+US2A32ET8/d",
      "include_colab_link": true
    },
    "kernelspec": {
      "name": "python3",
      "display_name": "Python 3"
    },
    "language_info": {
      "name": "python"
    }
  },
  "cells": [
    {
      "cell_type": "markdown",
      "metadata": {
        "id": "view-in-github",
        "colab_type": "text"
      },
      "source": [
        "<a href=\"https://colab.research.google.com/github/FeRosales/Tarea3/blob/main/Tarea3.ipynb\" target=\"_parent\"><img src=\"https://colab.research.google.com/assets/colab-badge.svg\" alt=\"Open In Colab\"/></a>"
      ]
    },
    {
      "cell_type": "code",
      "metadata": {
        "colab": {
          "base_uri": "https://localhost:8080/"
        },
        "id": "CereD_4itOkB",
        "outputId": "9bd9b44c-d22b-4379-e66f-a4f22805cfab"
      },
      "source": [
        "menu_select = [3,2 ,'Ensalada verde', 'crema de zanahoria','filete', 'Filete término medio,\\n la ensalada sin ningun tipo de semilla, Adereso\\n Ranch']\n",
        "print(\"Detalle:\")\n",
        "print(f\"                MESA:{menu_select[0]}\")\n",
        "print(f\"                COMENSAL:{menu_select[1]}\")\n",
        "print(f\"                ENTRADA:{menu_select[2]}\")\n",
        "print(f\"                MEDIO:{menu_select[3]}\")\n",
        "print(f\"                FUERTE:{menu_select[4]}\")\n",
        "print(f\"                ADICIONALES:{menu_select[5]}\")"
      ],
      "execution_count": 31,
      "outputs": [
        {
          "output_type": "stream",
          "name": "stdout",
          "text": [
            "Detalle:\n",
            "                MESA:3\n",
            "                COMENSAL:2\n",
            "                ENTRADA:Ensalada verde\n",
            "                MEDIO:crema de zanahoria\n",
            "                FUERTE:filete\n",
            "                ADICIONALES:Filete término medio,\n",
            " la ensalada sin ningun tipo de semilla, Adereso\n",
            " Ranch\n"
          ]
        }
      ]
    }
  ]
}